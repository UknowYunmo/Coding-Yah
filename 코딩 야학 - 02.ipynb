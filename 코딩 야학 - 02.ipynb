{
 "cells": [
  {
   "cell_type": "code",
   "execution_count": 1,
   "metadata": {},
   "outputs": [
    {
     "name": "stdout",
     "output_type": "stream",
     "text": [
      "(6, 1) (6, 1)\n",
      "Epoch 1/10\n",
      "1/1 [==============================] - 0s 3ms/step - loss: 88.0129\n",
      "Epoch 2/10\n",
      "1/1 [==============================] - 0s 2ms/step - loss: 87.5810\n",
      "Epoch 3/10\n",
      "1/1 [==============================] - 0s 2ms/step - loss: 87.1503\n",
      "Epoch 4/10\n",
      "1/1 [==============================] - 0s 999us/step - loss: 86.7206\n",
      "Epoch 5/10\n",
      "1/1 [==============================] - 0s 997us/step - loss: 86.2920\n",
      "Epoch 6/10\n",
      "1/1 [==============================] - 0s 2ms/step - loss: 85.8645\n",
      "Epoch 7/10\n",
      "1/1 [==============================] - 0s 2ms/step - loss: 85.4381\n",
      "Epoch 8/10\n",
      "1/1 [==============================] - 0s 997us/step - loss: 85.0127\n",
      "Epoch 9/10\n",
      "1/1 [==============================] - 0s 2ms/step - loss: 84.5884\n",
      "Epoch 10/10\n",
      "1/1 [==============================] - 0s 996us/step - loss: 84.1653\n",
      "[[32.006386]\n",
      " [33.556313]\n",
      " [35.106243]\n",
      " [36.656174]\n",
      " [38.2061  ]\n",
      " [39.75603 ]]\n",
      "[[24.256739]]\n"
     ]
    }
   ],
   "source": [
    "###########################\n",
    "# 라이브러리 사용\n",
    "import tensorflow as tf\n",
    "import pandas as pd\n",
    " \n",
    "###########################\n",
    "# 데이터를 준비합니다.\n",
    "파일경로 = 'https://raw.githubusercontent.com/blackdew/tensorflow1/master/csv/lemonade.csv'\n",
    "레모네이드 = pd.read_csv(파일경로)\n",
    "레모네이드.head()\n",
    "# 종속변수, 독립변수\n",
    "독립 = 레모네이드[['온도']]\n",
    "종속 = 레모네이드[['판매량']]\n",
    "print(독립.shape, 종속.shape)\n",
    " \n",
    "###########################\n",
    "# 모델을 만듭니다.\n",
    "X = tf.keras.layers.Input(shape=[1])\n",
    "Y = tf.keras.layers.Dense(1)(X)\n",
    "model = tf.keras.models.Model(X, Y)\n",
    "model.compile(loss='mse')\n",
    " \n",
    "###########################\n",
    "# 모델을 학습시킵니다. \n",
    "model.fit(독립, 종속, epochs=1000, verbose=0)\n",
    "model.fit(독립, 종속, epochs=10)\n",
    " \n",
    "###########################\n",
    "# 모델을 이용합니다. \n",
    "print(model.predict(독립))\n",
    "print(model.predict([[15]]))"
   ]
  },
  {
   "cell_type": "code",
   "execution_count": null,
   "metadata": {},
   "outputs": [],
   "source": []
  }
 ],
 "metadata": {
  "kernelspec": {
   "display_name": "Python 3",
   "language": "python",
   "name": "python3"
  },
  "language_info": {
   "codemirror_mode": {
    "name": "ipython",
    "version": 3
   },
   "file_extension": ".py",
   "mimetype": "text/x-python",
   "name": "python",
   "nbconvert_exporter": "python",
   "pygments_lexer": "ipython3",
   "version": "3.8.5"
  }
 },
 "nbformat": 4,
 "nbformat_minor": 4
}
